{
 "cells": [
  {
   "attachments": {},
   "cell_type": "markdown",
   "metadata": {},
   "source": [
    "# Playground\n",
    "\n",
    "Understand data through various approaches."
   ]
  },
  {
   "attachments": {},
   "cell_type": "markdown",
   "metadata": {},
   "source": [
    "## Load and Check"
   ]
  },
  {
   "cell_type": "code",
   "execution_count": 4,
   "metadata": {},
   "outputs": [],
   "source": [
    "import numpy as np\n",
    "import pandas as pd\n",
    "import json\n",
    "from tqdm import tqdm\n",
    "import random\n",
    "\n",
    "# consts\n",
    "ORI_COMMENT_PATH = '../data/original/Movies_and_TV.json'\n",
    "ORI_META_PATH = '../data/original/meta_Movies_and_TV.json'\n",
    "MAX_LINES = 1000 # read no more than this number of lines\n"
   ]
  },
  {
   "cell_type": "code",
   "execution_count": 5,
   "metadata": {},
   "outputs": [
    {
     "name": "stderr",
     "output_type": "stream",
     "text": [
      "100%|██████████| 1000/1000 [00:00<00:00, 75875.18it/s]"
     ]
    },
    {
     "name": "stdout",
     "output_type": "stream",
     "text": [
      "{'overall': 5.0, 'verified': True, 'reviewTime': '09 11, 2012', 'reviewerID': 'A1XIXLXK9B4DAJ', 'asin': '0005089549', 'style': {'Format:': ' Audio CD'}, 'reviewerName': 'MMnMM', 'reviewText': 'Product received quickly from seller. Product was in great condition as stated. People who enjoy southern gospel music will be thrilled with this offering by the various Cathedral performers, with the exception of Payne and Younce, down through the years. Also quite happy with service. Would use seller again.', 'summary': 'A Reunion by Cathedral Quartet', 'unixReviewTime': 1347321600}\n"
     ]
    },
    {
     "name": "stderr",
     "output_type": "stream",
     "text": [
      "\n"
     ]
    }
   ],
   "source": [
    "# read original comment\n",
    "comments = []\n",
    "with open(ORI_COMMENT_PATH) as f:\n",
    "    with tqdm(total=MAX_LINES) as pbar:\n",
    "        for i in range(MAX_LINES):\n",
    "            line = f.readline()\n",
    "            try:\n",
    "                comments.append(json.loads(line))\n",
    "            except:\n",
    "                print(f'Error line at line #{i + 1}: {line}')\n",
    "            pbar.update(1)\n",
    "\n",
    "print(comments[10])"
   ]
  },
  {
   "cell_type": "code",
   "execution_count": 11,
   "metadata": {},
   "outputs": [
    {
     "name": "stdout",
     "output_type": "stream",
     "text": [
      "Randomly showing data #272\n",
      "{\n",
      "    \"overall\": 5.0,\n",
      "    \"verified\": true,\n",
      "    \"reviewTime\": \"12 21, 2016\",\n",
      "    \"reviewerID\": \"A1V0KH72H0BCDZ\",\n",
      "    \"asin\": \"0005019281\",\n",
      "    \"style\": {\n",
      "        \"Format:\": \" Amazon Video\"\n",
      "    },\n",
      "    \"reviewerName\": \"Kurt\",\n",
      "    \"reviewText\": \"It was great!!!!!Been years since we watched the movie.\",\n",
      "    \"summary\": \"Five Stars\",\n",
      "    \"unixReviewTime\": 1482278400\n",
      "}\n"
     ]
    }
   ],
   "source": [
    "rand_idx = random.randint(0, MAX_LINES)\n",
    "print(f'Randomly showing comment #{rand_idx}')\n",
    "print(json.dumps(comments[rand_idx], indent=4))"
   ]
  },
  {
   "attachments": {},
   "cell_type": "markdown",
   "metadata": {},
   "source": [
    "Select following features of *comment*:\n",
    "\n",
    "- overall `float`\n",
    "- unixReviewTime `int`\n",
    "- reviewerName `string` (later move to *reviewer*)\n",
    "- reviewText `string` (replace newline)\n",
    "- summary `string`\n",
    "- asin `string`\n",
    "- reviewerID `string`\n"
   ]
  },
  {
   "cell_type": "code",
   "execution_count": 12,
   "metadata": {},
   "outputs": [
    {
     "name": "stderr",
     "output_type": "stream",
     "text": [
      "100%|██████████| 1000/1000 [00:00<00:00, 25327.77it/s]"
     ]
    },
    {
     "name": "stdout",
     "output_type": "stream",
     "text": [
      "{'category': ['Movies & TV', 'Genre for Featured Categories', 'Faith & Spirituality'], 'tech1': '', 'description': ['The angel showed Dumitru all of California, Las Vegas, New York City and Florida, and then said, \"you see what I have shown you. This is Sodom and Gomorrah. In one day it will burn. Its sin has reached the Holy One. I love the people of this country and I want to save them, but America will burn.\"\\nDumitru said, \"It will start with an internal revolution in America, started by the Communists. Some of the people will start fighting against the government. The government will be busy with internal problems. Then, from the oceans, Russia, Cuba, Micaragua, Central America, Mexico, and two other countries which I cannot remember, will attack! The Russians will bombard the nuclear missile silos in America and America will burn. \\n\"In the church there is divorce, adultery, fornication, sodomy, abortion, and all kinds of sin. Jesus Christ lives in Holiness.\" The angel said, \"Tell them to stop sinning. God never stops forgiving.  Tell them to start preparing themselves so I can save them  in the day of trouble.\" This video featuring Michael Boldea, Dumitru Duduman\\'s grandson and interpreter, is calling the Church to holiness.'], 'fit': '', 'title': 'A Call to Holiness VHS', 'also_buy': [], 'tech2': '', 'brand': 'Michael Boldea', 'feature': [], 'rank': '722,400 in Movies & TV (', 'also_view': [], 'main_cat': 'Movies & TV', 'similar_item': '', 'date': '', 'price': '', 'asin': '0001421409', 'imageURL': [], 'imageURLHighRes': []}\n"
     ]
    },
    {
     "name": "stderr",
     "output_type": "stream",
     "text": [
      "\n"
     ]
    }
   ],
   "source": [
    "# read original meta\n",
    "metas = []\n",
    "with open(ORI_META_PATH) as f:\n",
    "    with tqdm(total=MAX_LINES) as pbar:\n",
    "        for i in range(MAX_LINES):\n",
    "            line = f.readline()\n",
    "            try:\n",
    "                metas.append(json.loads(line))\n",
    "            except:\n",
    "                print(f'Error line at line #{i + 1}: {line}')\n",
    "            pbar.update(1)\n",
    "\n",
    "print(metas[10])"
   ]
  },
  {
   "cell_type": "code",
   "execution_count": 24,
   "metadata": {},
   "outputs": [
    {
     "name": "stdout",
     "output_type": "stream",
     "text": [
      "Randomly showing comment #420\n",
      "{\n",
      "    \"category\": [\n",
      "        \"Movies & TV\",\n",
      "        \"Studio Specials\",\n",
      "        \"Warner Home Video\",\n",
      "        \"Warner Video Bargains\",\n",
      "        \"Drama\"\n",
      "    ],\n",
      "    \"tech1\": \"\",\n",
      "    \"description\": [\n",
      "        \"First broadcast on HBO in June of 1998--shortly before the theatrical release of Steven Spielberg's <I>Saving Private Ryan</I>--this World War II drama offers an equally intimate and devastating study of combat and its tragic aftermath. Set in Germany during the closing days of the war, the film uses a little-known episode of U.S. military history--the bloody battle of the Hurtigen Forest--as the backdrop for the story of a battle-weary private (Ron Eldard) who is the only surviving member of his platoon. Despite his request for dismissal on the grounds of mental disability and shell-shock, he is considered a promising soldier by his superiors, promoted to sergeant, and assigned to command a fresh platoon of young, inexperienced soldiers. The cycle of war continues, and the film ends as it began--with one soldier carrying a mortally wounded comrade from a scene of devastating loss. A veteran of several war films, director John Irvin emphasizes the gritty, physically exhausting realities of combat with keen attention to detail on location in Hungary. This film is decidedly downbeat (don't look for any Spielbergian uplift here), but its depiction of warfare is undeniably powerful, earning praise for Irvin and HBO for tackling such an uncompromising project. <I>--Jeff Shannon</I>\"\n",
      "    ],\n",
      "    \"fit\": \"\",\n",
      "    \"title\": \"When Trumpets Fade VHS\",\n",
      "    \"also_buy\": [],\n",
      "    \"tech2\": \"\",\n",
      "    \"brand\": \"Ron Eldard\",\n",
      "    \"feature\": [],\n",
      "    \"rank\": \"260,406 in Movies & TV (\",\n",
      "    \"also_view\": [],\n",
      "    \"main_cat\": \"Movies & TV\",\n",
      "    \"similar_item\": \"\",\n",
      "    \"date\": \"\",\n",
      "    \"price\": \"$9.99\",\n",
      "    \"asin\": \"0783112750\",\n",
      "    \"imageURL\": [],\n",
      "    \"imageURLHighRes\": []\n",
      "}\n"
     ]
    }
   ],
   "source": [
    "rand_idx = random.randint(0, MAX_LINES)\n",
    "print(f'Randomly showing comment #{rand_idx}')\n",
    "print(json.dumps(metas[rand_idx], indent=4))"
   ]
  },
  {
   "attachments": {},
   "cell_type": "markdown",
   "metadata": {},
   "source": [
    "Select following features of *meta* (later as *product*):\n",
    "\n",
    "- title `string`\n",
    "- brand `string`\n",
    "- description `string` (concat with comma, choose first)\n",
    "- imageURLHighRes `string` (as imageUrl, choose first)\n",
    "- asin `string`\n",
    "- price `float` (remove $, empty as -1)\n",
    "- category `string[]` (as categories, concat with comma, remove 'Movies & TV')\n",
    "- rank `int` (select numericals)"
   ]
  }
 ],
 "metadata": {
  "kernelspec": {
   "display_name": "Python 3",
   "language": "python",
   "name": "python3"
  },
  "language_info": {
   "codemirror_mode": {
    "name": "ipython",
    "version": 3
   },
   "file_extension": ".py",
   "mimetype": "text/x-python",
   "name": "python",
   "nbconvert_exporter": "python",
   "pygments_lexer": "ipython3",
   "version": "3.11.3"
  },
  "orig_nbformat": 4
 },
 "nbformat": 4,
 "nbformat_minor": 2
}
