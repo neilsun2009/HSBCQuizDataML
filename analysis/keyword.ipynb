{
 "cells": [
  {
   "attachments": {},
   "cell_type": "markdown",
   "metadata": {},
   "source": [
    "# Keyword Analysis\n",
    "\n",
    "Use jupyter notebook to conduct interactive data analysis.\n",
    "\n",
    "Also output crucial files for data visualization on web."
   ]
  },
  {
   "cell_type": "code",
   "execution_count": 1,
   "metadata": {},
   "outputs": [],
   "source": [
    "import numpy as np\n",
    "import pandas as pd\n",
    "import json\n",
    "import math\n",
    "import os\n",
    "from tqdm import tqdm\n",
    "import matplotlib.pyplot as plt\n",
    "\n",
    "class NpEncoder(json.JSONEncoder):\n",
    "    def default(self, obj):\n",
    "        if isinstance(obj, np.integer):\n",
    "            return int(obj)\n",
    "        if isinstance(obj, np.floating):\n",
    "            return float(obj)\n",
    "        if isinstance(obj, np.ndarray):\n",
    "            return obj.tolist()\n",
    "        return super(NpEncoder, self).default(obj)\n",
    "\n",
    "customer_csv_path = '../data/csv/aug_customers.csv'\n",
    "product_csv_path = '../data/csv/products.csv'\n",
    "comment_csv_path = '../data/csv/aug_comments.csv'\n",
    "keyword_csv_path = '../data/csv/keywords.csv'\n",
    "\n",
    "output_base_dir = '../stats/keyword'\n"
   ]
  },
  {
   "cell_type": "code",
   "execution_count": 2,
   "metadata": {},
   "outputs": [
    {
     "name": "stdout",
     "output_type": "stream",
     "text": [
      "Number of keywords: 1026557\n"
     ]
    }
   ],
   "source": [
    "keyword_df = pd.read_csv(keyword_csv_path)\n",
    "\n",
    "print(f'Number of keywords: {len(keyword_df)}')"
   ]
  },
  {
   "cell_type": "code",
   "execution_count": 3,
   "metadata": {},
   "outputs": [
    {
     "data": {
      "text/html": [
       "<div>\n",
       "<style scoped>\n",
       "    .dataframe tbody tr th:only-of-type {\n",
       "        vertical-align: middle;\n",
       "    }\n",
       "\n",
       "    .dataframe tbody tr th {\n",
       "        vertical-align: top;\n",
       "    }\n",
       "\n",
       "    .dataframe thead th {\n",
       "        text-align: right;\n",
       "    }\n",
       "</style>\n",
       "<table border=\"1\" class=\"dataframe\">\n",
       "  <thead>\n",
       "    <tr style=\"text-align: right;\">\n",
       "      <th></th>\n",
       "      <th>word</th>\n",
       "      <th>count</th>\n",
       "    </tr>\n",
       "  </thead>\n",
       "  <tbody>\n",
       "    <tr>\n",
       "      <th>0</th>\n",
       "      <td>crap</td>\n",
       "      <td>28197</td>\n",
       "    </tr>\n",
       "    <tr>\n",
       "      <th>1</th>\n",
       "      <td>night</td>\n",
       "      <td>159121</td>\n",
       "    </tr>\n",
       "    <tr>\n",
       "      <th>2</th>\n",
       "      <td>glad</td>\n",
       "      <td>131051</td>\n",
       "    </tr>\n",
       "    <tr>\n",
       "      <th>3</th>\n",
       "      <td>riveting</td>\n",
       "      <td>16199</td>\n",
       "    </tr>\n",
       "    <tr>\n",
       "      <th>4</th>\n",
       "      <td>binge</td>\n",
       "      <td>9922</td>\n",
       "    </tr>\n",
       "  </tbody>\n",
       "</table>\n",
       "</div>"
      ],
      "text/plain": [
       "       word   count\n",
       "0      crap   28197\n",
       "1     night  159121\n",
       "2      glad  131051\n",
       "3  riveting   16199\n",
       "4     binge    9922"
      ]
     },
     "execution_count": 3,
     "metadata": {},
     "output_type": "execute_result"
    }
   ],
   "source": [
    "keyword_df.head()"
   ]
  },
  {
   "cell_type": "code",
   "execution_count": 4,
   "metadata": {},
   "outputs": [
    {
     "data": {
      "text/html": [
       "<div>\n",
       "<style scoped>\n",
       "    .dataframe tbody tr th:only-of-type {\n",
       "        vertical-align: middle;\n",
       "    }\n",
       "\n",
       "    .dataframe tbody tr th {\n",
       "        vertical-align: top;\n",
       "    }\n",
       "\n",
       "    .dataframe thead th {\n",
       "        text-align: right;\n",
       "    }\n",
       "</style>\n",
       "<table border=\"1\" class=\"dataframe\">\n",
       "  <thead>\n",
       "    <tr style=\"text-align: right;\">\n",
       "      <th></th>\n",
       "      <th>word</th>\n",
       "      <th>count</th>\n",
       "    </tr>\n",
       "  </thead>\n",
       "  <tbody>\n",
       "    <tr>\n",
       "      <th>0</th>\n",
       "      <td>movie</td>\n",
       "      <td>4717681</td>\n",
       "    </tr>\n",
       "    <tr>\n",
       "      <th>1</th>\n",
       "      <td>great</td>\n",
       "      <td>2426195</td>\n",
       "    </tr>\n",
       "    <tr>\n",
       "      <th>2</th>\n",
       "      <td>good</td>\n",
       "      <td>2145206</td>\n",
       "    </tr>\n",
       "    <tr>\n",
       "      <th>3</th>\n",
       "      <td>film</td>\n",
       "      <td>2003701</td>\n",
       "    </tr>\n",
       "    <tr>\n",
       "      <th>4</th>\n",
       "      <td>story</td>\n",
       "      <td>1275781</td>\n",
       "    </tr>\n",
       "    <tr>\n",
       "      <th>5</th>\n",
       "      <td>time</td>\n",
       "      <td>1237581</td>\n",
       "    </tr>\n",
       "    <tr>\n",
       "      <th>6</th>\n",
       "      <td>dvd</td>\n",
       "      <td>1235672</td>\n",
       "    </tr>\n",
       "    <tr>\n",
       "      <th>7</th>\n",
       "      <td>series</td>\n",
       "      <td>974883</td>\n",
       "    </tr>\n",
       "    <tr>\n",
       "      <th>8</th>\n",
       "      <td>movies</td>\n",
       "      <td>885986</td>\n",
       "    </tr>\n",
       "    <tr>\n",
       "      <th>9</th>\n",
       "      <td>show</td>\n",
       "      <td>854735</td>\n",
       "    </tr>\n",
       "    <tr>\n",
       "      <th>10</th>\n",
       "      <td>more</td>\n",
       "      <td>780433</td>\n",
       "    </tr>\n",
       "    <tr>\n",
       "      <th>11</th>\n",
       "      <td>other</td>\n",
       "      <td>757131</td>\n",
       "    </tr>\n",
       "    <tr>\n",
       "      <th>12</th>\n",
       "      <td>best</td>\n",
       "      <td>726102</td>\n",
       "    </tr>\n",
       "    <tr>\n",
       "      <th>13</th>\n",
       "      <td>first</td>\n",
       "      <td>663009</td>\n",
       "    </tr>\n",
       "    <tr>\n",
       "      <th>14</th>\n",
       "      <td>people</td>\n",
       "      <td>618939</td>\n",
       "    </tr>\n",
       "    <tr>\n",
       "      <th>15</th>\n",
       "      <td>many</td>\n",
       "      <td>612857</td>\n",
       "    </tr>\n",
       "    <tr>\n",
       "      <th>16</th>\n",
       "      <td>way</td>\n",
       "      <td>587755</td>\n",
       "    </tr>\n",
       "    <tr>\n",
       "      <th>17</th>\n",
       "      <td>season</td>\n",
       "      <td>586227</td>\n",
       "    </tr>\n",
       "    <tr>\n",
       "      <th>18</th>\n",
       "      <td>characters</td>\n",
       "      <td>563848</td>\n",
       "    </tr>\n",
       "    <tr>\n",
       "      <th>19</th>\n",
       "      <td>little</td>\n",
       "      <td>549306</td>\n",
       "    </tr>\n",
       "  </tbody>\n",
       "</table>\n",
       "</div>"
      ],
      "text/plain": [
       "          word    count\n",
       "0        movie  4717681\n",
       "1        great  2426195\n",
       "2         good  2145206\n",
       "3         film  2003701\n",
       "4        story  1275781\n",
       "5         time  1237581\n",
       "6          dvd  1235672\n",
       "7       series   974883\n",
       "8       movies   885986\n",
       "9         show   854735\n",
       "10        more   780433\n",
       "11       other   757131\n",
       "12        best   726102\n",
       "13       first   663009\n",
       "14      people   618939\n",
       "15        many   612857\n",
       "16         way   587755\n",
       "17      season   586227\n",
       "18  characters   563848\n",
       "19      little   549306"
      ]
     },
     "execution_count": 4,
     "metadata": {},
     "output_type": "execute_result"
    }
   ],
   "source": [
    "# sort on keywords\n",
    "keyword_df.sort_values(by=['count'], ascending=False, inplace=True)\n",
    "keyword_df = keyword_df.reset_index(drop=True)\n",
    "\n",
    "keyword_df.head(20)"
   ]
  },
  {
   "cell_type": "code",
   "execution_count": 5,
   "metadata": {},
   "outputs": [
    {
     "data": {
      "text/html": [
       "<div>\n",
       "<style scoped>\n",
       "    .dataframe tbody tr th:only-of-type {\n",
       "        vertical-align: middle;\n",
       "    }\n",
       "\n",
       "    .dataframe tbody tr th {\n",
       "        vertical-align: top;\n",
       "    }\n",
       "\n",
       "    .dataframe thead th {\n",
       "        text-align: right;\n",
       "    }\n",
       "</style>\n",
       "<table border=\"1\" class=\"dataframe\">\n",
       "  <thead>\n",
       "    <tr style=\"text-align: right;\">\n",
       "      <th></th>\n",
       "      <th>count</th>\n",
       "    </tr>\n",
       "  </thead>\n",
       "  <tbody>\n",
       "    <tr>\n",
       "      <th>count</th>\n",
       "      <td>1.026557e+06</td>\n",
       "    </tr>\n",
       "    <tr>\n",
       "      <th>mean</th>\n",
       "      <td>1.684545e+02</td>\n",
       "    </tr>\n",
       "    <tr>\n",
       "      <th>std</th>\n",
       "      <td>7.804254e+03</td>\n",
       "    </tr>\n",
       "    <tr>\n",
       "      <th>min</th>\n",
       "      <td>1.000000e+00</td>\n",
       "    </tr>\n",
       "    <tr>\n",
       "      <th>25%</th>\n",
       "      <td>1.000000e+00</td>\n",
       "    </tr>\n",
       "    <tr>\n",
       "      <th>50%</th>\n",
       "      <td>1.000000e+00</td>\n",
       "    </tr>\n",
       "    <tr>\n",
       "      <th>75%</th>\n",
       "      <td>3.000000e+00</td>\n",
       "    </tr>\n",
       "    <tr>\n",
       "      <th>max</th>\n",
       "      <td>4.717681e+06</td>\n",
       "    </tr>\n",
       "  </tbody>\n",
       "</table>\n",
       "</div>"
      ],
      "text/plain": [
       "              count\n",
       "count  1.026557e+06\n",
       "mean   1.684545e+02\n",
       "std    7.804254e+03\n",
       "min    1.000000e+00\n",
       "25%    1.000000e+00\n",
       "50%    1.000000e+00\n",
       "75%    3.000000e+00\n",
       "max    4.717681e+06"
      ]
     },
     "execution_count": 5,
     "metadata": {},
     "output_type": "execute_result"
    }
   ],
   "source": [
    "keyword_df.describe()"
   ]
  },
  {
   "cell_type": "code",
   "execution_count": 7,
   "metadata": {},
   "outputs": [
    {
     "name": "stdout",
     "output_type": "stream",
     "text": [
      "1026557 words appeared >= 1 times, 100.00% words accounts for 100.00% occurence\n",
      "134471 words appeared >= 10 times, 13.10% words accounts for 99.05% occurence\n",
      "40948 words appeared >= 100 times, 3.99% words accounts for 97.42% occurence\n",
      "12256 words appeared >= 1000 times, 1.19% words accounts for 92.07% occurence\n",
      "2444 words appeared >= 10000 times, 0.24% words accounts for 74.76% occurence\n",
      "236 words appeared >= 100000 times, 0.02% words accounts for 40.13% occurence\n"
     ]
    }
   ],
   "source": [
    "count_sum = keyword_df['count'].sum()\n",
    "\n",
    "word_occurence_stat = []\n",
    "\n",
    "for power in range(0, 6):\n",
    "    thres = int(math.pow(10, power))\n",
    "    keyword_subset_df = keyword_df[keyword_df[\"count\"] >= thres]\n",
    "    subset_sum = keyword_subset_df['count'].sum()\n",
    "    num_words = len(keyword_subset_df)\n",
    "    print(f'{num_words} words appeared >= {thres} times, {100*num_words/len(keyword_df):.2f}% words accounts for {100*subset_sum/count_sum:.2f}% occurence')\n",
    "    word_occurence_stat.append({\n",
    "        'threshold': thres,\n",
    "        'numWords': num_words,\n",
    "        'totalOccurence': subset_sum,\n",
    "    })"
   ]
  },
  {
   "attachments": {},
   "cell_type": "markdown",
   "metadata": {},
   "source": [
    "Here we can see that, a more extreme version of 80/20 rule appeared for keyword occurence, where 13% of the vocabulary accounted for more than 99% of total occurence."
   ]
  },
  {
   "cell_type": "code",
   "execution_count": 8,
   "metadata": {},
   "outputs": [
    {
     "data": {
      "image/png": "[encoded data removed]",
      "text/plain": [
       "<Figure size 640x480 with 1 Axes>"
      ]
     },
     "metadata": {},
     "output_type": "display_data"
    }
   ],
   "source": [
    "# draw a pie chart with top 10 words\n",
    "\n",
    "top_10_keywords = keyword_df.head(10)\n",
    "sizes = list(top_10_keywords['count'])  # Sizes of each slice\n",
    "labels = list(top_10_keywords['word'])  # Labels for each slice\n",
    "# colors = ['red', 'orange', 'yellow', 'green', 'blue']  # Colors for each slice\n",
    "\n",
    "# add other words\n",
    "# sizes.append(other_words_count)\n",
    "# labels.append('other words')\n",
    "\n",
    "\n",
    "# Create the pie chart\n",
    "plt.pie(sizes, labels=labels, startangle=90, autopct='%1.1f%%')\n",
    "plt.axis('equal')  # Ensure that the pie is drawn as a circle\n",
    "plt.title('Pie chart of top 10 words')\n",
    "\n",
    "# Display the chart\n",
    "plt.show()"
   ]
  },
  {
   "cell_type": "code",
   "execution_count": 9,
   "metadata": {},
   "outputs": [
    {
     "name": "stdout",
     "output_type": "stream",
     "text": [
      "'good' occured 2145206 times, ranked #3/1026557\n",
      "'great' occured 2426195 times, ranked #2/1026557\n",
      "'best' occured 726102 times, ranked #13/1026557\n",
      "'funny' occured 454117 times, ranked #28/1026557\n",
      "'interesting' occured 352049 times, ranked #46/1026557\n",
      "'bad' occured 473861 times, ranked #25/1026557\n",
      "'terrible' occured 90256 times, ranked #259/1026557\n",
      "'worst' occured 84886 times, ranked #279/1026557\n",
      "'boring' occured 117811 times, ranked #197/1026557\n",
      "'disappointing' occured 40754 times, ranked #636/1026557\n",
      "\n"
     ]
    }
   ],
   "source": [
    "selected_words_stat = []\n",
    "for word in ['good', 'great', 'best', 'funny', 'interesting', 'bad', 'terrible', 'worst', 'boring', 'disappointing']:\n",
    "    rank = keyword_df.index[keyword_df['word']==word].tolist()[0]+1\n",
    "    occurence = keyword_df[keyword_df['word']==word].iloc[0]['count']\n",
    "    print(f\"'{word}' occured {occurence} times, ranked #{rank}/{len(keyword_df)}\")\n",
    "    selected_words_stat.append({\n",
    "        'word': word,\n",
    "        'rank': int(rank),\n",
    "        'occurence': int(occurence),\n",
    "    })\n",
    "print()"
   ]
  },
  {
   "attachments": {},
   "cell_type": "markdown",
   "metadata": {},
   "source": [
    "Here we can see positive words occured much more then negative words. We may infer that more comments were positive. This could be double checked in sentiment analysis."
   ]
  },
  {
   "cell_type": "code",
   "execution_count": 10,
   "metadata": {},
   "outputs": [],
   "source": [
    "# get top 100 words for word cloud\n",
    "top_100_stat = []\n",
    "for i in range(100):\n",
    "    word_ds = keyword_df.iloc[i]\n",
    "    top_100_stat.append({\n",
    "        'word': word_ds['word'],\n",
    "        'occurence': int(word_ds['count']),\n",
    "        'rank': i+1\n",
    "    })"
   ]
  },
  {
   "cell_type": "code",
   "execution_count": 11,
   "metadata": {},
   "outputs": [],
   "source": [
    "# output\n",
    "with open(os.path.join(output_base_dir, 'occurence.json'), 'w') as f:\n",
    "    json.dump(word_occurence_stat, f, cls=NpEncoder)\n",
    "with open(os.path.join(output_base_dir, 'top100.json'), 'w') as f:\n",
    "    json.dump(top_100_stat, f, cls=NpEncoder)\n",
    "with open(os.path.join(output_base_dir, 'selected_words.json'), 'w') as f:\n",
    "    json.dump(selected_words_stat, f, cls=NpEncoder)"
   ]
  }
 ],
 "metadata": {
  "kernelspec": {
   "display_name": "Python 3",
   "language": "python",
   "name": "python3"
  },
  "language_info": {
   "codemirror_mode": {
    "name": "ipython",
    "version": 3
   },
   "file_extension": ".py",
   "mimetype": "text/x-python",
   "name": "python",
   "nbconvert_exporter": "python",
   "pygments_lexer": "ipython3",
   "version": "3.11.3"
  },
  "orig_nbformat": 4
 },
 "nbformat": 4,
 "nbformat_minor": 2
}
